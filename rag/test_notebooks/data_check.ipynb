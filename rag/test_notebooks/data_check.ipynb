{
 "cells": [
  {
   "cell_type": "code",
   "execution_count": 14,
   "metadata": {},
   "outputs": [],
   "source": [
    "import json\n",
    "\n",
    "fine_tuning_dataset = \"../../inputs/frameworks/finetuning.jsonl\"\n",
    "\n",
    "# Open and read the JSON file\n",
    "with open(fine_tuning_dataset, 'r',  encoding='utf-8') as file:\n",
    "    lines = []\n",
    "    for line in file:\n",
    "        json_object = json.loads(line)\n",
    "        lines.append(json_object) \n",
    "# Print the data\n"
   ]
  },
  {
   "cell_type": "code",
   "execution_count": 16,
   "metadata": {},
   "outputs": [
    {
     "data": {
      "text/html": [
       "<div>\n",
       "<style scoped>\n",
       "    .dataframe tbody tr th:only-of-type {\n",
       "        vertical-align: middle;\n",
       "    }\n",
       "\n",
       "    .dataframe tbody tr th {\n",
       "        vertical-align: top;\n",
       "    }\n",
       "\n",
       "    .dataframe thead th {\n",
       "        text-align: right;\n",
       "    }\n",
       "</style>\n",
       "<table border=\"1\" class=\"dataframe\">\n",
       "  <thead>\n",
       "    <tr style=\"text-align: right;\">\n",
       "      <th></th>\n",
       "      <th>messages</th>\n",
       "    </tr>\n",
       "  </thead>\n",
       "  <tbody>\n",
       "    <tr>\n",
       "      <th>0</th>\n",
       "      <td>[{'role': 'system', 'content': 'Develop compre...</td>\n",
       "    </tr>\n",
       "    <tr>\n",
       "      <th>1</th>\n",
       "      <td>[{'role': 'system', 'content': 'Develop compre...</td>\n",
       "    </tr>\n",
       "    <tr>\n",
       "      <th>2</th>\n",
       "      <td>[{'role': 'system', 'content': 'Develop compre...</td>\n",
       "    </tr>\n",
       "    <tr>\n",
       "      <th>3</th>\n",
       "      <td>[{'role': 'system', 'content': 'Develop compre...</td>\n",
       "    </tr>\n",
       "    <tr>\n",
       "      <th>4</th>\n",
       "      <td>[{'role': 'system', 'content': 'Develop compre...</td>\n",
       "    </tr>\n",
       "    <tr>\n",
       "      <th>...</th>\n",
       "      <td>...</td>\n",
       "    </tr>\n",
       "    <tr>\n",
       "      <th>95</th>\n",
       "      <td>[{'role': 'system', 'content': 'Use your exper...</td>\n",
       "    </tr>\n",
       "    <tr>\n",
       "      <th>96</th>\n",
       "      <td>[{'role': 'system', 'content': 'Use your exper...</td>\n",
       "    </tr>\n",
       "    <tr>\n",
       "      <th>97</th>\n",
       "      <td>[{'role': 'system', 'content': 'Use your exper...</td>\n",
       "    </tr>\n",
       "    <tr>\n",
       "      <th>98</th>\n",
       "      <td>[{'role': 'system', 'content': 'Use your exper...</td>\n",
       "    </tr>\n",
       "    <tr>\n",
       "      <th>99</th>\n",
       "      <td>[{'role': 'system', 'content': 'Use your exper...</td>\n",
       "    </tr>\n",
       "  </tbody>\n",
       "</table>\n",
       "<p>100 rows × 1 columns</p>\n",
       "</div>"
      ],
      "text/plain": [
       "                                             messages\n",
       "0   [{'role': 'system', 'content': 'Develop compre...\n",
       "1   [{'role': 'system', 'content': 'Develop compre...\n",
       "2   [{'role': 'system', 'content': 'Develop compre...\n",
       "3   [{'role': 'system', 'content': 'Develop compre...\n",
       "4   [{'role': 'system', 'content': 'Develop compre...\n",
       "..                                                ...\n",
       "95  [{'role': 'system', 'content': 'Use your exper...\n",
       "96  [{'role': 'system', 'content': 'Use your exper...\n",
       "97  [{'role': 'system', 'content': 'Use your exper...\n",
       "98  [{'role': 'system', 'content': 'Use your exper...\n",
       "99  [{'role': 'system', 'content': 'Use your exper...\n",
       "\n",
       "[100 rows x 1 columns]"
      ]
     },
     "execution_count": 16,
     "metadata": {},
     "output_type": "execute_result"
    }
   ],
   "source": [
    "import pandas as pd\n",
    "pd.DataFrame(lines)\n"
   ]
  },
  {
   "cell_type": "code",
   "execution_count": 18,
   "metadata": {},
   "outputs": [
    {
     "data": {
      "text/plain": [
       "[{'role': 'system',\n",
       "  'content': \"Develop comprehensive, scenario-based quiz modules designed to effectively train restaurant staff by enhancing their proficiency in diverse areas, including menu knowledge, cultural understanding, waiter etiquette, and more. The quizzes should be engaging, contextually relevant, and varied to ensure high levels of interest without redundancy. ### 1. Collect Input Data. Acquire detailed menus, including all food items with ingredients, preparation techniques, allergen information, and pairing suggestions. 2. **Location and Main Nationality of Clients**: Gather data on the restaurant's location and the predominant nationalities of its clientele. 3. **Cuisine of the Restaurant**: Determine the main cuisine featured at the restaurant. ### 2. Generate Question Pool - Develop a diverse set of questions tagged by specific subtopics tailored to the collected data. - Ensure questions are engaging, framed in real-world scenarios, and not repetitive to maintain quiz freshness and intrigue. - Use a mix of question lengths, including short, scenario-based questions. ### 3. Structure the Quiz - Each quiz module should contain 10 questions with multiple-choice answers (A to D), with one correct answer. - Each module should have an entertaining and engaging title.\"},\n",
       " {'role': 'user',\n",
       "  'content': 'The restaurant is called Carbone. It is located in Greenwich Village, New York City. The most common client nationalities are French, Italian, and American. The cuisine is Italian. The restaurant has an upscaled Italian styled lunch menu, an upscaled Italian styled dinner menu, an upscaled Italian styled wine menu, and an upscaled Italian styled drinks menu.'},\n",
       " {'role': 'assistant',\n",
       "  'content': \"{'Cycle 1': [{'Quiz 1': {'question1': {'menu_knowledge_question_1': 'What is the main ingredient in our signature dish, the Italian Risotto?', 'A': 'Arborio rice', 'B': 'Basmati rice', 'C': 'Brown rice', 'D': 'Wild rice', 'correct_answer': 'A'}, 'question2': {'menu_knowledge_question_2': 'Which herb is prominently used in the preparation of the classic French Ratatouille from our menu?', 'A': 'Thyme', 'B': 'Oregano', 'C': 'Basil', 'D': 'Rosemary', 'correct_answer': 'C'}, 'question3': {'menu_knowledge_question_3': 'For the vegan dish 'Spicy Lentil Curry', what is its key allergen in terms of common sensitivity?', 'A': 'Peanuts', 'B': 'Gluten', 'C': 'Soy', 'D': 'Nightshades', 'correct_answer': 'D'}, 'question4': {'tricks_and_tips_question_1': 'How would you best describe our 'Chateau Cabernet Sauvignon' to a customer?', 'A': 'A Zesty white wine with citrus notes', 'B': 'A full-bodied red with notes of dark berries and oak', 'C': 'A light rosé with hints of peach', 'D': 'A sparkling wine with a floral bouquet', 'correct_answer': 'B'}, 'question5': {'tricks_and_tips_question_2': 'What is the best way to recommend a pairing for our 'Asian Fusion Tuna Tataki'?', 'A': 'Pair with a sweet dessert wine', 'B': 'Suggest a refreshing sake', 'C': 'Recommend a bold red wine', 'D': 'Serve with a craft beer', 'correct_answer': 'B'}, 'question6': {'tricks_and_tips_question_3': 'If a customer asks for a gluten-free beer option, which would you suggest from our menu?', 'A': 'Traditional Pilsner', 'B': 'Craft Stout', 'C': 'Sorghum Lager', 'D': 'Belgian Wheat', 'correct_answer': 'C'}, 'question7': {'wine_upselling_question_1': 'If a diner is ordering our premium filet mignon, which wine would you recommend for the ultimate experience?', 'A': 'Rosé', 'B': 'Merlot', 'C': 'Pinot Grigio', 'D': 'Chianti', 'correct_answer': 'B'}, 'question8': {'cultural_competency_question_1': 'Our restaurant often serves clients from France. What is a cultural consideration when serving French guests?', 'A': 'Ensure to place the knife and fork on the same side', 'B': 'Always serve beverages with ice', 'C': 'Avoid informalities', 'D': 'Suggest only French wines', 'correct_answer': 'C'}, 'question9': {'problem_solving_question_1': 'A customer mentions their steak is overcooked. What should be your initial response?', 'A': 'Offer them a complimentary dessert', 'B': 'Take their plate and bring out the manager', 'C': 'Apologize and suggest a replacement or adjustment', 'D': 'Inform them it is prepared as ordered', 'correct_answer': 'C'}, 'question10': {'food_safety_question_1': 'What is a critical step in preventing cross-contamination when handling raw chicken?', 'A': 'Cooking it at high heat', 'B': 'Rinsing it with cold water', 'C': 'Using one cutting board for all prep work', 'D': 'Using separate utensils and surfaces', 'correct_answer': 'D'}}}]}\"}]"
      ]
     },
     "execution_count": 18,
     "metadata": {},
     "output_type": "execute_result"
    }
   ],
   "source": [
    "lines[0][\"messages\"]"
   ]
  },
  {
   "cell_type": "code",
   "execution_count": 20,
   "metadata": {},
   "outputs": [
    {
     "data": {
      "text/html": [
       "<div>\n",
       "<style scoped>\n",
       "    .dataframe tbody tr th:only-of-type {\n",
       "        vertical-align: middle;\n",
       "    }\n",
       "\n",
       "    .dataframe tbody tr th {\n",
       "        vertical-align: top;\n",
       "    }\n",
       "\n",
       "    .dataframe thead th {\n",
       "        text-align: right;\n",
       "    }\n",
       "</style>\n",
       "<table border=\"1\" class=\"dataframe\">\n",
       "  <thead>\n",
       "    <tr style=\"text-align: right;\">\n",
       "      <th></th>\n",
       "      <th>role</th>\n",
       "      <th>content</th>\n",
       "    </tr>\n",
       "  </thead>\n",
       "  <tbody>\n",
       "    <tr>\n",
       "      <th>0</th>\n",
       "      <td>system</td>\n",
       "      <td>Develop comprehensive, scenario-based quiz mod...</td>\n",
       "    </tr>\n",
       "    <tr>\n",
       "      <th>1</th>\n",
       "      <td>user</td>\n",
       "      <td>The restaurant is called Carbone. It is locate...</td>\n",
       "    </tr>\n",
       "    <tr>\n",
       "      <th>2</th>\n",
       "      <td>assistant</td>\n",
       "      <td>{'Cycle 1': [{'Quiz 1': {'question1': {'menu_k...</td>\n",
       "    </tr>\n",
       "  </tbody>\n",
       "</table>\n",
       "</div>"
      ],
      "text/plain": [
       "        role                                            content\n",
       "0     system  Develop comprehensive, scenario-based quiz mod...\n",
       "1       user  The restaurant is called Carbone. It is locate...\n",
       "2  assistant  {'Cycle 1': [{'Quiz 1': {'question1': {'menu_k..."
      ]
     },
     "execution_count": 20,
     "metadata": {},
     "output_type": "execute_result"
    }
   ],
   "source": [
    "pd.DataFrame(lines[1][\"messages\"])"
   ]
  },
  {
   "cell_type": "code",
   "execution_count": null,
   "metadata": {},
   "outputs": [],
   "source": []
  },
  {
   "cell_type": "code",
   "execution_count": null,
   "metadata": {},
   "outputs": [],
   "source": []
  },
  {
   "cell_type": "code",
   "execution_count": null,
   "metadata": {},
   "outputs": [],
   "source": []
  }
 ],
 "metadata": {
  "kernelspec": {
   "display_name": "Python 3",
   "language": "python",
   "name": "python3"
  },
  "language_info": {
   "codemirror_mode": {
    "name": "ipython",
    "version": 3
   },
   "file_extension": ".py",
   "mimetype": "text/x-python",
   "name": "python",
   "nbconvert_exporter": "python",
   "pygments_lexer": "ipython3",
   "version": "3.10.0"
  }
 },
 "nbformat": 4,
 "nbformat_minor": 2
}
