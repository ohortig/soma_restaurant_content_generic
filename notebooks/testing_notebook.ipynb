{
 "cells": [
  {
   "cell_type": "markdown",
   "metadata": {},
   "source": [
    "# This is a testing notebook for FEW SHOT PROMPTING "
   ]
  },
  {
   "cell_type": "code",
   "execution_count": 29,
   "metadata": {},
   "outputs": [
    {
     "name": "stdout",
     "output_type": "stream",
     "text": [
      "The autoreload extension is already loaded. To reload it, use:\n",
      "  %reload_ext autoreload\n"
     ]
    }
   ],
   "source": [
    "import os\n",
    "import sys\n",
    "from load_dotenv import load_dotenv\n",
    "\n",
    "load_dotenv()\n",
    "%load_ext autoreload\n",
    "%autoreload 2\n",
    "sys.path.append(\"../\")\n",
    "sys.path.append(\"../outputs/\")"
   ]
  },
  {
   "cell_type": "code",
   "execution_count": 59,
   "metadata": {},
   "outputs": [],
   "source": [
    "examples = \"\"\"<Examples>\n",
    "----------------\n",
    "**Question:** When describing a seasonal special, \"[Insert Seasonal Dish Name],\" which description would make it sound the most enticing?\n",
    "\n",
    "**Answers:**\n",
    "- A: \"The [Insert Seasonal Dish Name] is made with fresh, seasonal ingredients and tastes great.\"\n",
    "- B: \"[Insert Seasonal Dish Name] brings together the best of the season with [Insert Fresh Ingredient] and [Insert Seasonal Ingredient], capturing the vibrant flavors of this time of year and delivering a dish that’s fresh, colorful, and full of zest.\"\n",
    "- C: \"It’s a good seasonal option with fresh ingredients and light flavors.\"\n",
    "- D: \"The [Insert Seasonal Dish Name] is fresh and flavorful, making it a good choice.\"\n",
    "\n",
    "**Correct Answer:** B\n",
    "\n",
    "----------------\n",
    "**Question:**: How would you describe the \"[Insert Appetizer Name]\" to make it stand out as a light yet flavorful starter?\n",
    "\n",
    "**Answers:**\n",
    "- A: \"The [Insert Appetizer Name] is a light starter made with [Insert Main Ingredient], which makes it a great choice to begin your meal.\"\n",
    "- B: \"[Insert Appetizer Name] combines the crispness of [Insert Main Ingredient] with the zesty bite of [Insert Accompaniment], making it a refreshing yet satisfying start to your dining experience.\"\n",
    "- C: \"It’s a nice, light dish with a simple flavor, perfect as a starter.\"\n",
    "- D: \"The [Insert Appetizer Name] is a good way to begin your meal with fresh ingredients and light flavors.\"\n",
    "\n",
    "**Correct Answer:** B\n",
    "----------------\n",
    "**Question:**: A guest is interested in the \"[Insert Seafood Dish]\" and asks what makes it stand out. How would you describe it?\n",
    "\n",
    "**Answers:**\n",
    "- A: \"The [Insert Seafood Dish] is fresh and cooked well, with mild flavors that seafood lovers enjoy.\"\n",
    "- B: \"[Insert Seafood Dish] features tender, flaky [Insert Seafood], lightly seared to perfection, with a crisp exterior and complemented by a tangy [Insert Sauce] to enhance the fresh, briny flavors.\"\n",
    "- C: \"It’s a simple seafood dish, with a nice texture and light seasoning.\"\n",
    "- D: \"The [Insert Seafood Dish] is a good choice if you enjoy seafood with light flavors.\"\n",
    "\n",
    "**Correct Answer:** B\n",
    "**Tip:** Highlight the freshness of seafood and the balance between texture and flavor to enhance its appeal.\n",
    "----------------\n",
    "**Question:**: A guest wants a rich and comforting dish. How would you describe the \"[Insert Comfort Food Dish]\" to meet their expectations?\n",
    "\n",
    "**Answers:**\n",
    "- A: \"The [Insert Comfort Food Dish] is rich and filling, perfect if you’re in the mood for something hearty.\"\n",
    "- B: \"[Insert Comfort Food Dish] envelops [Insert Main Ingredient] in a luxurious [Insert Sauce], with layers of warmth and richness that offer the ultimate comfort food experience, leaving you deeply satisfied.\"\n",
    "- C: \"It’s a comforting dish with warm flavors and a creamy texture, perfect if you want something filling.\"\n",
    "- D: \"The [Insert Comfort Food Dish] is great for anyone who wants a hearty meal with creamy ingredients.\"\n",
    "\n",
    "**Correct Answer:** B\n",
    "**Tip:** Highlight indulgence and richness, using words like “luxurious” and “comfort” to make it sound more inviting.\n",
    "</Examples>\"\"\""
   ]
  },
  {
   "cell_type": "code",
   "execution_count": 92,
   "metadata": {},
   "outputs": [],
   "source": [
    "from inputs.sections.sections_info import  dish_appeal\n",
    "\n",
    "examples = f\"\"\"<Examples>\n",
    "----------------\n",
    "**Question:** \n",
    "{dish_appeal.quizzes[0][\"quizzes\"][\"dish descriptions\"][\"examples\"][\"example_1\"]}\n",
    "----------------\n",
    "**Question:**: \n",
    "{dish_appeal.quizzes[0][\"quizzes\"][\"dish descriptions\"][\"examples\"][\"example_2\"]}\n",
    "----------------\n",
    "**Question:**: \n",
    "{dish_appeal.quizzes[0][\"quizzes\"][\"dish descriptions\"][\"examples\"][\"example_3\"]}\n",
    "----------------\n",
    "**Question:**: \n",
    "{dish_appeal.quizzes[0][\"quizzes\"][\"dish descriptions\"][\"examples\"][\"example_4\"]}\n",
    "</Examples>\n",
    "\"\"\""
   ]
  },
  {
   "cell_type": "code",
   "execution_count": 93,
   "metadata": {},
   "outputs": [
    {
     "name": "stdout",
     "output_type": "stream",
     "text": [
      "<Examples>\n",
      "----------------\n",
      "**Question:** \n",
      "When describing a seasonal special, '[Insert Seasonal Dish Name],' which description would make it sound the most enticing?\n",
      "                    Answers:\n",
      "                    **A: The [Insert Seasonal Dish Name] is made with fresh, seasonal ingredients and tastes great.**\n",
      "                    **B: [Insert Seasonal Dish Name] brings together the best of the season with [Insert Fresh Ingredient] and [Insert Seasonal Ingredient], capturing the vibrant flavors of this time of year and delivering a dish that’s fresh, colorful, and full of zest.**\n",
      "                    **C: It’s a good seasonal option with fresh ingredients and light flavors.**\n",
      "                    **D: The [Insert Seasonal Dish Name] is fresh and flavorful, making it a good choice.**\n",
      "                    **Correct Answer: B**\n",
      "                    \n",
      "----------------\n",
      "**Question:**: \n",
      "You're crafting a menu description for the **[Insert Seasonal Dish Name].** Which option best uses vivid imagery to entice diners?\n",
      "                    Answers:\n",
      "                    **A: A seafood paella with rice and saffron, it's tasty and filling.**\n",
      "                    **B: Our [Insert Seasonal Dish Name] features a fragrant blend of saffron-infused rice loaded with succulent shrimp, mussels, and clams, simmered to perfection in a rich broth.**\n",
      "                    **C: The [Insert Seasonal Dish Name] is a good choice if you like seafood and rice.**\n",
      "                    **D: It's a [Dish type] that's popular and has fresh ingredients.**\n",
      "                    **Correct Answer: B**\n",
      "                    \n",
      "----------------\n",
      "**Question:**: \n",
      "How would you describe the [Insert Seasonal Dish Name] to make it stand out as a light yet flavorful starter?\n",
      "                    Answers:\n",
      "                    **A: The [Insert Seasonal Dish Name] is a light appetizer with avocado, ideal to start your meal.**\n",
      "                    **B: Our [Insert Seasonal Dish Name] pairs creamy avocado with a hint of chili on toasted baguette slices, offering a vibrant and flavorful beginning to your dining experience.**\n",
      "                    **C: It's a nice, simple dish with mild flavors, suitable as a starter.**\n",
      "                    **D: The [Insert Seasonal Dish Name] is fresh and flavorful, making it a good choice to begin your meal.**\n",
      "                    **Correct Answer: B**\n",
      "                    \n",
      "----------------\n",
      "**Question:**: \n",
      "\n",
      "                    A guest wants a rich and comforting dish. How would you describe the \"[Insert Comfort Food Dish]\" to meet their expectations?\n",
      "                    Answers:\n",
      "                    **A: The [Insert Comfort Food Dish] is rich and filling, perfect if you’re in the mood for something hearty.**\n",
      "                    **B: [Insert Comfort Food Dish] envelops [Insert Main Ingredient] in a luxurious [Insert Sauce], with layers of warmth and richness that offer the ultimate comfort food experience, leaving you deeply satisfied.**\n",
      "                    **C: It’s a comforting dish with warm flavors and a creamy texture, perfect if you want something filling.**\n",
      "                    **D: The [Insert Comfort Food Dish] is great for anyone who wants a hearty meal with creamy ingredients.**\n",
      "                    **Correct Answer: B**\n",
      "                    **Tip: Highlight indulgence and richness, using words like “luxurious” and “comfort” to make it sound more inviting.**\n",
      "                    \n",
      "</Examples>\n",
      "\n"
     ]
    }
   ],
   "source": [
    "print(examples)"
   ]
  },
  {
   "cell_type": "code",
   "execution_count": 87,
   "metadata": {},
   "outputs": [
    {
     "data": {
      "text/plain": [
       "\"When describing a seasonal special, '[Insert Seasonal Dish Name],' which description would make it sound the most enticing?\\n                    **A: The [Insert Seasonal Dish Name] is made with fresh, seasonal ingredients and tastes great.**\\n                    **B: [Insert Seasonal Dish Name] brings together the best of the season with [Insert Fresh Ingredient] and [Insert Seasonal Ingredient], capturing the vibrant flavors of this time of year and delivering a dish that’s fresh, colorful, and full of zest.**\\n                    **C: It’s a good seasonal option with fresh ingredients and light flavors.**\\n                    **D: The [Insert Seasonal Dish Name] is fresh and flavorful, making it a good choice.**\\n                    **Correct Answer: B**\\n                    \""
      ]
     },
     "execution_count": 87,
     "metadata": {},
     "output_type": "execute_result"
    }
   ],
   "source": [
    "dish_appeal.quizzes[0][\"quizzes\"][\"dish descriptions\"][\"examples\"][\"example_1\"]"
   ]
  },
  {
   "cell_type": "code",
   "execution_count": null,
   "metadata": {},
   "outputs": [],
   "source": []
  },
  {
   "cell_type": "code",
   "execution_count": 94,
   "metadata": {},
   "outputs": [],
   "source": [
    "system_message_content = f\"\"\"\n",
    "<instructions>\n",
    "You are a helpful assistant which develops comprehensive, scenario-based quiz modules designed to effectively train restaurant staff by enhancing their proficiency in dish appeal.\n",
    "The quizzes should be engaging, contextually relevant, and varied to ensure high levels of interest without redundancy.\n",
    "</instructions>\n",
    "\n",
    "<expected inputs>\n",
    "Use the following inputs to generate the quiz:\n",
    "### 1. **Section_Title**: The title of the section the quiz is part of.\n",
    "### 2. **Title of Quiz**: The name of the quiz that you are generating.\n",
    "### 3. **Description of Quiz**: A high level description of the quiz that you are generating.\n",
    "### 4. **Restaurant Name**: The name of the restaurant.\n",
    "### 5. **Restaurant Location**: The restaurant's location\n",
    "### 6. **Nationalities**: The top  nationalities of the restaurant's clientele.\n",
    "### 7. **Cuisine of the Restaurant**: The main cuisine featured at the restaurant.\n",
    "### 8. **Enhanced Menus**: Enhanced menus which detail the pricing, ingredients, pairing suggestions, cultural narratives, and menu category for each menu item. \n",
    "</expected inputs>\n",
    "\n",
    "<output_requirements>\n",
    "### 1. **Generate Questions**:\n",
    "Develop a diverse set of scenario-based questions tailored to the input data. \n",
    "Ensure questions are engaging, diverse, framed in real-world scenarios, and not repetitive to maintain quiz freshness and intrigue. \n",
    "### 2. **Structure of the Quiz**:\n",
    "Each quiz should contain 10 questions with multiple-choice answers (A to D), with one correct answer.\n",
    "</output_requirements>\n",
    "\n",
    "Use the following examples format, writing style and coherence. Must use each of these styles at least once in your 10 questions.\n",
    "YOU MUST RESPECT THIS FORMAT AND ALL QUESTIONS MUST HAVE 4 SUGGESTED ANSWERS.\n",
    "{examples}\n",
    "\"\"\""
   ]
  },
  {
   "cell_type": "code",
   "execution_count": 95,
   "metadata": {},
   "outputs": [
    {
     "data": {
      "text/plain": [
       "[{'name': \"Pan | Olivade 'casero' comida\",\n",
       "  'appeal': 'A simple yet irresistible homemade olive spread paired with freshly baked bread, perfect to start your meal.',\n",
       "  'category': 'Starters',\n",
       "  'ingredients': ['Bread', 'Homemade olive spread'],\n",
       "  'price': 2.5},\n",
       " {'name': 'Caviar Oscietra',\n",
       "  'appeal': 'Indulge in the luxurious and silky texture of sustainably sourced Oscietra caviar, an unforgettable experience for the palate.',\n",
       "  'category': 'Starters',\n",
       "  'ingredients': ['Oscietra caviar'],\n",
       "  'price': 155.0},\n",
       " {'name': 'Ostras Amelie NÂº2',\n",
       "  'appeal': 'Savor the briny, fresh taste of Amelie nÂº2 oysters, a perfect seafood delicacy that will transport you to the ocean.',\n",
       "  'category': 'Starters',\n",
       "  'ingredients': ['Oysters'],\n",
       "  'price': 5.5},\n",
       " {'name': 'Sashimi PORTIXOL',\n",
       "  'appeal': 'Delicate slices of fresh fish that melt in your mouth, served with a touch of Portixol elegance.',\n",
       "  'category': 'Starters',\n",
       "  'ingredients': ['Fresh fish (assorted sashimi)'],\n",
       "  'price': 27.0},\n",
       " {'name': 'JamÃ³n IbÃ©rico de bellota',\n",
       "  'appeal': 'Rich, nutty flavors of acorn-fed Iberian ham, thinly sliced to perfection, a true Spanish delicacy.',\n",
       "  'category': 'Starters',\n",
       "  'ingredients': ['Iberian cured ham'],\n",
       "  'price': 27.0},\n",
       " {'name': 'Lubina braseada',\n",
       "  'appeal': 'Succulent grilled sea bass, accompanied by tender marinated vegetables and a fragrant Tom Yum broth that invigorates the senses.',\n",
       "  'category': 'Main Courses',\n",
       "  'ingredients': ['Sea bass', 'Mini marinated vegetables', 'Tom Yum broth'],\n",
       "  'price': 36.0},\n",
       " {'name': 'AtÃºn rojo',\n",
       "  'appeal': 'Perfectly seared red tuna with a burst of flavor from edamame and a hint of spicy wasabi mayonnaise.',\n",
       "  'category': 'Main Courses',\n",
       "  'ingredients': ['Red tuna', 'Edamame', 'Wasabi mayonnaise'],\n",
       "  'price': 36.0},\n",
       " {'name': 'Coulant de chocolate',\n",
       "  'appeal': 'A decadent chocolate dessert with a molten center, served with hazelnut and Tonka bean ice cream for a perfect balance of richness and creaminess.',\n",
       "  'category': 'Dessert',\n",
       "  'ingredients': ['Chocolate', 'Hazelnut', 'Tonka bean ice cream'],\n",
       "  'price': 10.0},\n",
       " {'name': 'Tarta de queso mallorquÃ\\xadn',\n",
       "  'appeal': 'Creamy Mallorcan cheesecake, perfectly complemented by the nutty depth of toasted butter ice cream.',\n",
       "  'category': 'Dessert',\n",
       "  'ingredients': ['Mallorcan cheesecake', 'Toasted butter ice cream'],\n",
       "  'price': 11.0}]"
      ]
     },
     "execution_count": 95,
     "metadata": {},
     "output_type": "execute_result"
    }
   ],
   "source": [
    "from utils import load_json\n",
    "menu = load_json(\"../inputs/menus/basic_menu.json\")\n",
    "menu"
   ]
  },
  {
   "cell_type": "code",
   "execution_count": 96,
   "metadata": {},
   "outputs": [],
   "source": [
    "from inputs.restaurant_info.restaurant_info import RESTAURANT_INFO\n",
    "from inputs.frameworks import content_framework\n",
    "from inputs.sections.sections_info import dish_appeal\n",
    "\n",
    "quiz = dish_appeal.quizzes[0][\"quizzes\"][\"dish descriptions\"]\n",
    "\n",
    "\n",
    "user_message_content = f\"\"\"\n",
    "### 1. **Title of Section**: {dish_appeal.section_name}\n",
    "### 2. **Title of Quiz**: {list(dish_appeal.quizzes[0][\"quizzes\"].keys())[0]}\n",
    "### 3. **Description of Quiz**: {quiz[\"description\"]}\n",
    "### 4. **Restaurant Name**: {RESTAURANT_INFO.name}\n",
    "### 5. **Restaurant Location**: {RESTAURANT_INFO.location}\n",
    "### 6. **Nationalities**: {RESTAURANT_INFO.nationalities}\n",
    "### 7. **Cuisine of the Restaurant**: {RESTAURANT_INFO.cuisine}\n",
    "### 8. **menu**: {menu}\n",
    "    \t\t\"\"\""
   ]
  },
  {
   "cell_type": "code",
   "execution_count": 97,
   "metadata": {},
   "outputs": [],
   "source": [
    "messages = [{\"role\": \"system\", \"content\": system_message_content},\n",
    "            {\"role\": \"user\", \"content\": user_message_content}]"
   ]
  },
  {
   "cell_type": "code",
   "execution_count": 98,
   "metadata": {},
   "outputs": [
    {
     "name": "stderr",
     "output_type": "stream",
     "text": [
      "INFO: HTTP Request: POST https://api.openai.com/v1/chat/completions \"HTTP/1.1 200 OK\"\n"
     ]
    },
    {
     "name": "stdout",
     "output_type": "stream",
     "text": [
      "completion end\n"
     ]
    }
   ],
   "source": [
    "from openai import OpenAI\n",
    "from dotenv import load_dotenv\n",
    "\n",
    "load_dotenv()\n",
    "\n",
    "openai_model = OpenAI()\n",
    "completion = openai_model.chat.completions.create(\n",
    "    model=\"gpt-4o\",\n",
    "    messages=messages\n",
    "    )\n",
    "print(\"completion end\")\n",
    "response = completion.choices[0].message.content"
   ]
  },
  {
   "cell_type": "code",
   "execution_count": 99,
   "metadata": {},
   "outputs": [
    {
     "name": "stdout",
     "output_type": "stream",
     "text": [
      "### Quiz: Dish Descriptions at Carbone\n",
      "\n",
      "**Question 1:**  \n",
      "You want to introduce guests to the **Sashimi PORTIXOL**. Which description creates the most vivid and elegant portrayal of this dish?  \n",
      "Answers:  \n",
      "**A: A simple plate of assorted sashimi, offering a mild taste experience.**  \n",
      "**B: Delicate slices of fresh fish that melt in your mouth, served with a touch of Portixol elegance.**  \n",
      "**C: Sashimi served on a plate with a selection of fresh fish.**  \n",
      "**D: Fresh fish in thin slices, a good choice for sashimi lovers.**  \n",
      "**Correct Answer: B**  \n",
      "\n",
      "**Question 2:**  \n",
      "A diner is interested in a luxurious seafood starter. How would you describe the **Caviar Oscietra** to highlight its exclusivity?  \n",
      "Answers:  \n",
      "**A: An appetizer made with caviar.**  \n",
      "**B: A luxury starter featuring caviar, although quite pricey.**  \n",
      "**C: Indulge in the luxurious and silky texture of sustainably sourced Oscietra caviar, an unforgettable experience for the palate.**  \n",
      "**D: Caviar served as an exquisite appetizer.**  \n",
      "**Correct Answer: C**  \n",
      "\n",
      "**Question 3:**  \n",
      "How can you describe the **Lubina braseada** to emphasize its vibrant and sensory experience?  \n",
      "Answers:  \n",
      "**A: Grilled sea bass with vegetables and some broth.**  \n",
      "**B: Succulent grilled sea bass, accompanied by tender marinated vegetables and a fragrant Tom Yum broth that invigorates the senses.**  \n",
      "**C: Sea bass cooked to perfection with marinated vegetables.**  \n",
      "**D: A seafood dish that features grilled fish and broth.**  \n",
      "**Correct Answer: B**  \n",
      "\n",
      "**Question 4:**  \n",
      "A guest asks for a starter that embodies fresh, briny ocean flavors. Which description best captures **Ostras Amelie NÂº2**?  \n",
      "Answers:  \n",
      "**A: Fresh oysters that taste like the ocean.**  \n",
      "**B: A fresh seafood starter, ideal for oyster lovers.**  \n",
      "**C: Savor the briny, fresh taste of Amelie nÂº2 oysters, a perfect seafood delicacy that will transport you to the ocean.**  \n",
      "**D: Oysters served fresh with a hint of brine.**  \n",
      "**Correct Answer: C**  \n",
      "\n",
      "**Question 5:**  \n",
      "How would you describe the **Coulant de chocolate** to make it sound like a must-try for dessert lovers?  \n",
      "Answers:  \n",
      "**A: A simple chocolate cake.**  \n",
      "**B: A molten chocolate dessert with ice cream.**  \n",
      "**C: A decadent chocolate dessert with a molten center, served with hazelnut and Tonka bean ice cream for a perfect balance of richness and creaminess.**  \n",
      "**D: A dessert featuring chocolate and hazelnut ice cream.**  \n",
      "**Correct Answer: C**  \n",
      "\n",
      "**Question 6:**  \n",
      "To attract fans of cured meats, how would you describe the **JamÃ³n IbÃ©rico de bellota** to highlight its unique qualities?  \n",
      "Answers:  \n",
      "**A: A plate of thinly sliced ham.**  \n",
      "**B: Rich, nutty flavors of acorn-fed Iberian ham, thinly sliced to perfection, a true Spanish delicacy.**  \n",
      "**C: Iberian cured ham of great quality.**  \n",
      "**D: A cured meat dish for those who enjoy ham.**  \n",
      "**Correct Answer: B**  \n",
      "\n",
      "**Question 7:**  \n",
      "If a diner is inquiring about Italian appetizers, which description best captures the appeal of **Pan | Olivade 'casero' comida**?  \n",
      "Answers:  \n",
      "**A: A spread made with olives and some bread.**  \n",
      "**B: A simple yet irresistible homemade olive spread paired with freshly baked bread, perfect to start your meal.**  \n",
      "**C: Bread served with an olive-based spread.**  \n",
      "**D: An olive dish with bread that's quite popular.**  \n",
      "**Correct Answer: B**  \n",
      "\n",
      "**Question 8:**  \n",
      "When suggesting a main with deep, umami flavors, how would you entice guests with the **AtÃºn rojo**?  \n",
      "Answers:  \n",
      "**A: Seared red tuna with some spicy mayonnaise.**  \n",
      "**B: AtÃºn rojo, lightly seasoned tuna.**  \n",
      "**C: Perfectly seared red tuna with a burst of flavor from edamame and a hint of spicy wasabi mayonnaise.**  \n",
      "**D: Tuna served with spicy and fresh notes.**  \n",
      "**Correct Answer: C**  \n",
      "\n",
      "**Question 9:**  \n",
      "A guest wants a unique take on cheesecake. How do you describe **Tarta de queso mallorquÃ­** to intrigue them?  \n",
      "Answers:  \n",
      "**A: A tasty traditional cheesecake.**  \n",
      "**B: Cheesecake served with butter ice cream.**  \n",
      "**C: Creamy Mallorcan cheesecake, perfectly complemented by the nutty depth of toasted butter ice cream.**  \n",
      "**D: A cheesecake that offers a unique flavor experience.**  \n",
      "**Correct Answer: C**  \n",
      "\n",
      "**Question 10:**  \n",
      "What description makes the **Pan | Olivade 'casero' comida** sound like an authentic and inviting Italian starter?  \n",
      "Answers:  \n",
      "**A: A starter with bread and olive paste.**  \n",
      "**B: An olive dish often served with bread, very typical.**  \n",
      "**C: A traditional olive spread that's quite common in Italy.**  \n",
      "**D: A simple yet irresistible homemade olive spread paired with freshly baked bread, perfect to start your meal.**  \n",
      "**Correct Answer: D**  \n"
     ]
    }
   ],
   "source": [
    "print(response)"
   ]
  },
  {
   "cell_type": "code",
   "execution_count": 100,
   "metadata": {},
   "outputs": [],
   "source": [
    "experiment_log = {\n",
    "    \"section\": \"Dish Appeal\",\n",
    "    \"examples\": examples,\n",
    "    \"base_menu\": menu,\n",
    "    \"menu_enhacement\": None,\n",
    "    \"inputs\": messages,\n",
    "    \"output\": response\n",
    "}"
   ]
  },
  {
   "cell_type": "code",
   "execution_count": 101,
   "metadata": {},
   "outputs": [],
   "source": [
    "import json\n",
    "with open('output_dish_appeal.json', 'w', encoding='utf-8') as f:\n",
    "    json.dump(experiment_log, f, ensure_ascii=False, indent=4)"
   ]
  },
  {
   "cell_type": "code",
   "execution_count": null,
   "metadata": {},
   "outputs": [],
   "source": []
  },
  {
   "cell_type": "code",
   "execution_count": null,
   "metadata": {},
   "outputs": [],
   "source": []
  },
  {
   "cell_type": "code",
   "execution_count": null,
   "metadata": {},
   "outputs": [],
   "source": []
  },
  {
   "cell_type": "code",
   "execution_count": null,
   "metadata": {},
   "outputs": [],
   "source": []
  },
  {
   "cell_type": "code",
   "execution_count": null,
   "metadata": {},
   "outputs": [],
   "source": []
  },
  {
   "cell_type": "code",
   "execution_count": null,
   "metadata": {},
   "outputs": [],
   "source": []
  }
 ],
 "metadata": {
  "kernelspec": {
   "display_name": "Python 3",
   "language": "python",
   "name": "python3"
  },
  "language_info": {
   "codemirror_mode": {
    "name": "ipython",
    "version": 3
   },
   "file_extension": ".py",
   "mimetype": "text/x-python",
   "name": "python",
   "nbconvert_exporter": "python",
   "pygments_lexer": "ipython3",
   "version": "3.10.0"
  }
 },
 "nbformat": 4,
 "nbformat_minor": 2
}
