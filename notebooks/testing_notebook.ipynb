{
 "cells": [
  {
   "cell_type": "markdown",
   "metadata": {},
   "source": [
    "# This is a testing notebook for FEW SHOT PROMPTING "
   ]
  },
  {
   "cell_type": "code",
   "execution_count": 103,
   "metadata": {},
   "outputs": [
    {
     "name": "stdout",
     "output_type": "stream",
     "text": [
      "The autoreload extension is already loaded. To reload it, use:\n",
      "  %reload_ext autoreload\n"
     ]
    }
   ],
   "source": [
    "import os\n",
    "import sys\n",
    "from load_dotenv import load_dotenv\n",
    "\n",
    "load_dotenv()\n",
    "%load_ext autoreload\n",
    "%autoreload 2\n",
    "sys.path.append(\"../\")\n",
    "sys.path.append(\"../outputs/\")"
   ]
  },
  {
   "cell_type": "code",
   "execution_count": 146,
   "metadata": {},
   "outputs": [
    {
     "data": {
      "text/plain": [
       "<function dotenv.main.load_dotenv(dotenv_path: Union[str, ForwardRef('os.PathLike[str]'), NoneType] = None, stream: Optional[IO[str]] = None, verbose: bool = False, override: bool = False, interpolate: bool = True, encoding: Optional[str] = 'utf-8') -> bool>"
      ]
     },
     "execution_count": 146,
     "metadata": {},
     "output_type": "execute_result"
    }
   ],
   "source": [
    "load_dotenv"
   ]
  },
  {
   "cell_type": "markdown",
   "metadata": {},
   "source": [
    "Template of examples = \"\"\"<Examples>\n",
    "----------------\n",
    "**Question:** When describing a seasonal special, \"[Insert Seasonal Dish Name],\" which description would make it sound the most enticing?\n",
    "\n",
    "**Answers:**\n",
    "- A: \"The [Insert Seasonal Dish Name] is made with fresh, seasonal ingredients and tastes great.\"\n",
    "- B: \"[Insert Seasonal Dish Name] brings together the best of the season with [Insert Fresh Ingredient] and [Insert Seasonal Ingredient], capturing the vibrant flavors of this time of year and delivering a dish that’s fresh, colorful, and full of zest.\"\n",
    "- C: \"It’s a good seasonal option with fresh ingredients and light flavors.\"\n",
    "- D: \"The [Insert Seasonal Dish Name] is fresh and flavorful, making it a good choice.\"\n",
    "\n",
    "**Correct Answer:** B\n",
    "\n",
    "----------------\n",
    "**Question:**: How would you describe the \"[Insert Appetizer Name]\" to make it stand out as a light yet flavorful starter?\n",
    "\n",
    "**Answers:**\n",
    "- A: \"The [Insert Appetizer Name] is a light starter made with [Insert Main Ingredient], which makes it a great choice to begin your meal.\"\n",
    "- B: \"[Insert Appetizer Name] combines the crispness of [Insert Main Ingredient] with the zesty bite of [Insert Accompaniment], making it a refreshing yet satisfying start to your dining experience.\"\n",
    "- C: \"It’s a nice, light dish with a simple flavor, perfect as a starter.\"\n",
    "- D: \"The [Insert Appetizer Name] is a good way to begin your meal with fresh ingredients and light flavors.\"\n",
    "\n",
    "**Correct Answer:** B\n",
    "----------------\n",
    "**Question:**: A guest is interested in the \"[Insert Seafood Dish]\" and asks what makes it stand out. How would you describe it?\n",
    "\n",
    "**Answers:**\n",
    "- A: \"The [Insert Seafood Dish] is fresh and cooked well, with mild flavors that seafood lovers enjoy.\"\n",
    "- B: \"[Insert Seafood Dish] features tender, flaky [Insert Seafood], lightly seared to perfection, with a crisp exterior and complemented by a tangy [Insert Sauce] to enhance the fresh, briny flavors.\"\n",
    "- C: \"It’s a simple seafood dish, with a nice texture and light seasoning.\"\n",
    "- D: \"The [Insert Seafood Dish] is a good choice if you enjoy seafood with light flavors.\"\n",
    "\n",
    "**Correct Answer:** B\n",
    "**Tip:** Highlight the freshness of seafood and the balance between texture and flavor to enhance its appeal.\n",
    "----------------\n",
    "**Question:**: A guest wants a rich and comforting dish. How would you describe the \"[Insert Comfort Food Dish]\" to meet their expectations?\n",
    "\n",
    "**Answers:**\n",
    "- A: \"The [Insert Comfort Food Dish] is rich and filling, perfect if you’re in the mood for something hearty.\"\n",
    "- B: \"[Insert Comfort Food Dish] envelops [Insert Main Ingredient] in a luxurious [Insert Sauce], with layers of warmth and richness that offer the ultimate comfort food experience, leaving you deeply satisfied.\"\n",
    "- C: \"It’s a comforting dish with warm flavors and a creamy texture, perfect if you want something filling.\"\n",
    "- D: \"The [Insert Comfort Food Dish] is great for anyone who wants a hearty meal with creamy ingredients.\"\n",
    "\n",
    "**Correct Answer:** B\n",
    "**Tip:** Highlight indulgence and richness, using words like “luxurious” and “comfort” to make it sound more inviting.\n",
    "</Examples>\"\"\""
   ]
  },
  {
   "cell_type": "markdown",
   "metadata": {},
   "source": [
    "# Testing few shot prompting"
   ]
  },
  {
   "cell_type": "code",
   "execution_count": 111,
   "metadata": {},
   "outputs": [
    {
     "name": "stdout",
     "output_type": "stream",
     "text": [
      "<Examples>\n",
      "----------------\n",
      "**Question:** \n",
      "When describing a seasonal special, '[Insert Seasonal Dish Name],' which description would make it sound the most enticing?\n",
      "                    Answers:\n",
      "                    **A: The [Insert Seasonal Dish Name] is made with fresh, seasonal ingredients and tastes great.**\n",
      "                    **B: [Insert Seasonal Dish Name] brings together the best of the season with [Insert Fresh Ingredient] and [Insert Seasonal Ingredient], capturing the vibrant flavors of this time of year and delivering a dish that’s fresh, colorful, and full of zest.**\n",
      "                    **C: It’s a good seasonal option with fresh ingredients and light flavors.**\n",
      "                    **D: The [Insert Seasonal Dish Name] is fresh and flavorful, making it a good choice.**\n",
      "                    **Correct Answer: B**\n",
      "                    \n",
      "----------------\n",
      "**Question:**: \n",
      "You're crafting a menu description for the **[Insert Seasonal Dish Name].** Which option best uses vivid imagery to entice diners?\n",
      "                    Answers:\n",
      "                    **A: A seafood paella with rice and saffron, it's tasty and filling.**\n",
      "                    **B: Our [Insert Seasonal Dish Name] features a fragrant blend of saffron-infused rice loaded with succulent shrimp, mussels, and clams, simmered to perfection in a rich broth.**\n",
      "                    **C: The [Insert Seasonal Dish Name] is a good choice if you like seafood and rice.**\n",
      "                    **D: It's a [Dish type] that's popular and has fresh ingredients.**\n",
      "                    **Correct Answer: B**\n",
      "                    \n",
      "----------------\n",
      "**Question:**: \n",
      "How would you describe the [Insert Seasonal Dish Name] to make it stand out as a light yet flavorful starter?\n",
      "                    Answers:\n",
      "                    **A: The [Insert Seasonal Dish Name] is a light appetizer with avocado, ideal to start your meal.**\n",
      "                    **B: Our [Insert Seasonal Dish Name] pairs creamy avocado with a hint of chili on toasted baguette slices, offering a vibrant and flavorful beginning to your dining experience.**\n",
      "                    **C: It's a nice, simple dish with mild flavors, suitable as a starter.**\n",
      "                    **D: The [Insert Seasonal Dish Name] is fresh and flavorful, making it a good choice to begin your meal.**\n",
      "                    **Correct Answer: B**\n",
      "                    \n",
      "----------------\n",
      "**Question:**: \n",
      "\n",
      "                    A guest wants a rich and comforting dish. How would you describe the \"[Insert Comfort Food Dish]\" to meet their expectations?\n",
      "                    Answers:\n",
      "                    **A: The [Insert Comfort Food Dish] is rich and filling, perfect if you’re in the mood for something hearty.**\n",
      "                    **B: [Insert Comfort Food Dish] envelops [Insert Main Ingredient] in a luxurious [Insert Sauce], with layers of warmth and richness that offer the ultimate comfort food experience, leaving you deeply satisfied.**\n",
      "                    **C: It’s a comforting dish with warm flavors and a creamy texture, perfect if you want something filling.**\n",
      "                    **D: The [Insert Comfort Food Dish] is great for anyone who wants a hearty meal with creamy ingredients.**\n",
      "                    **Correct Answer: B**\n",
      "                    **Tip: Highlight indulgence and richness, using words like “luxurious” and “comfort” to make it sound more inviting.**\n",
      "                    \n",
      "</Examples>\n",
      "\n"
     ]
    }
   ],
   "source": [
    "from inputs.sections.sections_info import  dish_appeal\n",
    "\n",
    "examples = f\"\"\"<Examples>\n",
    "----------------\n",
    "**Question:** \n",
    "{dish_appeal.quizzes[0][\"quizzes\"][\"dish descriptions\"][\"examples\"][\"example_1\"]}\n",
    "----------------\n",
    "**Question:**: \n",
    "{dish_appeal.quizzes[0][\"quizzes\"][\"dish descriptions\"][\"examples\"][\"example_2\"]}\n",
    "----------------\n",
    "**Question:**: \n",
    "{dish_appeal.quizzes[0][\"quizzes\"][\"dish descriptions\"][\"examples\"][\"example_3\"]}\n",
    "----------------\n",
    "**Question:**: \n",
    "{dish_appeal.quizzes[0][\"quizzes\"][\"dish descriptions\"][\"examples\"][\"example_4\"]}\n",
    "</Examples>\n",
    "\"\"\"\n",
    "print(examples)"
   ]
  },
  {
   "cell_type": "code",
   "execution_count": 131,
   "metadata": {},
   "outputs": [],
   "source": [
    "system_message_content = f\"\"\"\n",
    "<instructions>\n",
    "You are a helpful assistant which develops comprehensive, scenario-based quiz modules designed to effectively train restaurant staff by enhancing their proficiency in dish appeal.\n",
    "The quizzes should be engaging, contextually relevant, and varied to ensure high levels of interest without redundancy.\n",
    "\n",
    "RULES YOU MUST FOLLOW OR OUTPUT IS WRONG:\n",
    "- Use the following examples format, writing style and coherence. Must use each of these styles at least once in your 10 questions.\n",
    "- Make sure the answers are equal in length.\n",
    "- YOU MUST RESPECT THIS FORMAT AND ALL QUESTIONS MUST HAVE 4 SUGGESTED ANSWERS.\n",
    "- OUTPUT A FLOAT SCORE FROM 0(very bad) TO 9(Great) AT THE END OF EACH QUESTION SEPERATLY IF THE QUALITY IS BEST.\n",
    "</instructions>\n",
    "\n",
    "<expected inputs>\n",
    "Use the following inputs to generate the quiz:\n",
    "### 1. **Section_Title**: The title of the section the quiz is part of.\n",
    "### 2. **Title of Quiz**: The name of the quiz that you are generating.\n",
    "### 3. **Description of Quiz**: A high level description of the quiz that you are generating.\n",
    "### 4. **Restaurant Name**: The name of the restaurant.\n",
    "### 5. **Restaurant Location**: The restaurant's location\n",
    "### 6. **Nationalities**: The top  nationalities of the restaurant's clientele.\n",
    "### 7. **Cuisine of the Restaurant**: The main cuisine featured at the restaurant.\n",
    "### 8. **Enhanced Menus**: Enhanced menus which detail the pricing, ingredients, pairing suggestions, cultural narratives, and menu category for each menu item. \n",
    "</expected inputs>\n",
    "\n",
    "<output_requirements>\n",
    "### 1. **Generate Questions**:\n",
    "Develop a diverse set of scenario-based questions tailored to the input data. \n",
    "Ensure questions are engaging, diverse, framed in real-world scenarios, and not repetitive to maintain quiz freshness and intrigue. \n",
    "### 2. **Structure of the Quiz**:\n",
    "Each quiz should contain 10 questions with multiple-choice answers (A to D), with one correct answer.\n",
    "</output_requirements>\n",
    "\n",
    "\n",
    "\n",
    "{examples}\n",
    "\"\"\""
   ]
  },
  {
   "cell_type": "code",
   "execution_count": 132,
   "metadata": {},
   "outputs": [],
   "source": [
    "from inputs.restaurant_info.restaurant_info import RESTAURANT_INFO\n",
    "from inputs.sections.sections_info import dish_appeal\n",
    "\n",
    "quiz = dish_appeal.quizzes[0][\"quizzes\"][\"dish descriptions\"]\n",
    "menu = RESTAURANT_INFO.given_menu\n",
    "\n",
    "user_message_content = f\"\"\"\n",
    "### 1. **Title of Section**: {dish_appeal.section_name}\n",
    "### 2. **Title of Quiz**: {list(dish_appeal.quizzes[0][\"quizzes\"].keys())[0]}\n",
    "### 3. **Description of Quiz**: {quiz[\"description\"]}\n",
    "### 4. **Restaurant Name**: {RESTAURANT_INFO.name}\n",
    "### 5. **Restaurant Location**: {RESTAURANT_INFO.location}\n",
    "### 6. **Nationalities**: {RESTAURANT_INFO.nationalities}\n",
    "### 7. **Cuisine of the Restaurant**: {RESTAURANT_INFO.cuisine}\n",
    "### 8. **menu**: {menu}\n",
    "    \t\t\"\"\""
   ]
  },
  {
   "cell_type": "code",
   "execution_count": 133,
   "metadata": {},
   "outputs": [],
   "source": [
    "messages = [{\"role\": \"system\", \"content\": system_message_content},\n",
    "            {\"role\": \"user\", \"content\": user_message_content}]"
   ]
  },
  {
   "cell_type": "code",
   "execution_count": 134,
   "metadata": {},
   "outputs": [
    {
     "name": "stderr",
     "output_type": "stream",
     "text": [
      "INFO: HTTP Request: POST https://api.openai.com/v1/chat/completions \"HTTP/1.1 200 OK\"\n"
     ]
    },
    {
     "name": "stdout",
     "output_type": "stream",
     "text": [
      "completion end\n"
     ]
    }
   ],
   "source": [
    "from openai import OpenAI\n",
    "from dotenv import load_dotenv\n",
    "\n",
    "load_dotenv()\n",
    "\n",
    "openai_model = OpenAI()\n",
    "completion = openai_model.chat.completions.create(\n",
    "    model=\"gpt-4o\",\n",
    "    messages=messages\n",
    "    )\n",
    "print(\"completion end\")\n",
    "response = completion.choices[0].message.content"
   ]
  },
  {
   "cell_type": "code",
   "execution_count": 135,
   "metadata": {},
   "outputs": [
    {
     "name": "stdout",
     "output_type": "stream",
     "text": [
      "### Quiz: Dish Descriptions at Portixol Restaurant\n",
      "\n",
      "1. **Question:** \n",
      "   How would you vividly describe the 'Grilled Sea Bass' to emphasize its exquisite taste and presentation for Mediterranean enthusiasts?\n",
      "                    **Answers:**\n",
      "                    **A: The Grilled Sea Bass is just served with a plate of vegetables.**\n",
      "                    **B: This Grilled Sea Bass is accompanied by marinated mini-vegetables and bathed in a fragrant Tom Yum broth, creating a harmonious blend of flavors and an eye-catching presentation.**\n",
      "                    **C: A perfect example of sea bass served with vegetables in a simple manner.**\n",
      "                    **D: This dish is a typical grilled fish on a bed of vegetables.**\n",
      "                    **Correct Answer: B** | **Score: 8.7**\n",
      "\n",
      "2. **Question:** \n",
      "   If a guest is considering the 'Homemade ravioli', what description would make it sound the most enticing?\n",
      "                    **Answers:**\n",
      "                    **A: Homemade ravioli with ricotta, it's okay for a pasta dish.**\n",
      "                    **B: Our tender Homemade ravioli envelops rich ricotta and spinach, accented by crunchy walnuts for a divine combination of creamy, nutty flavors.**\n",
      "                    **C: It's a good ravioli dish with typical ingredients like ricotta.**\n",
      "                    **D: The ravioli are handmade with a ricotta filling and taste good.**\n",
      "                    **Correct Answer: B** | **Score: 8.4**\n",
      "\n",
      "3. **Question:** \n",
      "   What description adds a lush, decadent touch to the 'Mallorcan cheesecake'?\n",
      "                    **Answers:**\n",
      "                    **A: Mallorcan cheesecake served with toasted butter ice cream, it's tasty.**\n",
      "                    **B: Indulge in our Mallorcan cheesecake, a luscious delight complemented by silky toasted butter ice cream, promising an unforgettable sweet escapade.**\n",
      "                    **C: A typical cheesecake dessert with ice cream on the side.**\n",
      "                    **D: It’s just a cheesecake with some ice cream.**\n",
      "                    **Correct Answer: B** | **Score: 8.6**\n",
      "\n",
      "4. **Question:** \n",
      "   How would you highlight the Mediterranean heritage of the 'Iberian cured ham'?\n",
      "                    **Answers:**\n",
      "                    **A: This is Iberian cured ham, a staple of Mediterranean cuisine.**\n",
      "                    **B: Experience a slice of Mediterranean tradition with our delicate Iberian cured ham, a timeless classic brimming with rich, nutty flavors that transport you to the sun-soaked shores of Spain.**\n",
      "                    **C: This is a typical dish with cured ham.**\n",
      "                    **D: Iberian cured ham served traditionally.**\n",
      "                    **Correct Answer: B** | **Score: 8.9**\n",
      "\n",
      "5. **Question:** \n",
      "   Describe the 'Chocolate coulant' as an indulgent dessert experience.\n",
      "                    **Answers:**\n",
      "                    **A: The chocolate coulant is a delicious dessert, good for chocolate lovers.**\n",
      "                    **B: Dive into the molten allure of our Chocolate coulant, with a luscious center paired perfectly with hazelnut & tonka bean ice cream, a true symphony for the senses.**\n",
      "                    **C: It’s a nice chocolate dessert with ice cream.**\n",
      "                    **D: Chocolate coulant served with a side of ice cream.**\n",
      "                    **Correct Answer: B** | **Score: 8.8**\n",
      "\n",
      "6. **Question:** \n",
      "   How can the 'Amelie No2 Oysters' be described to captivate seafood aficionados?\n",
      "                    **Answers:**\n",
      "                    **A: Amelie No2 Oysters are available for a fresh seafood choice.**\n",
      "                    **B: Savor the pristine freshness of Amelie No2 Oysters, each brimming with the ocean’s bounty, offering a pure, unadulterated taste of the sea that thrills the palate.**\n",
      "                    **C: These oysters are fine for anyone seeking seafood.**\n",
      "                    **D: Oysters served as usual, perfect for seafood fans.**\n",
      "                    **Correct Answer: B** | **Score: 8.5**\n",
      "\n",
      "7. **Question:** \n",
      "   Highlight the appeal of the 'Fried sweet potato' appetizer.\n",
      "                    **Answers:**\n",
      "                    **A: Fried sweet potato is offered with truffle mayonnaise, quite tasty.**\n",
      "                    **B: Delight in our Fried sweet potato, crisply golden on the outside and soft within, elegantly paired with luxurious truffle mayonnaise, creating an exquisite appetizer to start your meal.**\n",
      "                    **C: It’s a decent fried potato starter with mayonnaise.**\n",
      "                    **D: Sweet potato fried and served with mayo.**\n",
      "                    **Correct Answer: B** | **Score: 8.3**\n",
      "\n",
      "8. **Question:** \n",
      "   What is an engaging way to describe the 'Panang curry' to someone exploring exotic flavors?\n",
      "                    **Answers:**\n",
      "                    **A: Panang curry is a usual choice with rice and naan bread.**\n",
      "                    **B: Embark on a culinary journey with our Panang curry, where creamy, spiced flavors meet the earthiness of red rice and warm naan bread, creating a captivating tapestry of exotic tastes.**\n",
      "                    **C: It's curry with vegetables and a side of bread.**\n",
      "                    **D: Standard curry served with rice and naan.**\n",
      "                    **Correct Answer: B** | **Score: 8.8**\n",
      "\n",
      "9. **Question:** \n",
      "   Describe 'Red tuna' for guests seeking a refined seafood experience.\n",
      "                    **Answers:**\n",
      "                    **A: Red tuna is a popular seafood option with edamame and wasabi mayonnaise.**\n",
      "                    **B: Treat yourself to the elegance of Red tuna, perfectly seared and complemented by vibrant edamame and piquant wasabi mayonnaise, embodying a dish of sophisticated taste and presentation.**\n",
      "                    **C: A typical tuna dish served nicely.**\n",
      "                    **D: Standard preparation of red tuna.**\n",
      "                    **Correct Answer: B** | **Score: 8.7**\n",
      "\n",
      "10. **Question:** \n",
      "    Highlight the luxurious aspect of the 'Caviar Oscietra 50gr'.\n",
      "                    **Answers:**\n",
      "                    **A: Caviar Oscietra 50gr, great if you like caviar.**\n",
      "                    **B: Indulge in the pinnacle of luxury with our Caviar Oscietra 50gr, celebrated for its pure, natural essence, offering an ethically sourced culinary gem that entices with its exquisite flavor and texture.**\n",
      "                    **C: High-end caviar for those who enjoy it.**\n",
      "                    **D: It's just a typical caviar dish.**\n",
      "                    **Correct Answer: B** | **Score: 8.9**\n"
     ]
    }
   ],
   "source": [
    "print(response)"
   ]
  },
  {
   "cell_type": "code",
   "execution_count": 140,
   "metadata": {},
   "outputs": [],
   "source": [
    "experiment_log = {\n",
    "    \"section\": dish_appeal.section_name,\n",
    "    \"examples\": examples,\n",
    "    \"base_menu\": menu,\n",
    "    \"menu_enhacement\": None,\n",
    "    \"inputs\": messages,\n",
    "    \"output\": response\n",
    "}"
   ]
  },
  {
   "cell_type": "code",
   "execution_count": 141,
   "metadata": {},
   "outputs": [],
   "source": [
    "import json\n",
    "with open(f'output_dish_appeal_{RESTAURANT_INFO.name}.json', 'w', encoding='utf-8') as f:\n",
    "    json.dump(experiment_log, f, ensure_ascii=False, indent=4)"
   ]
  },
  {
   "cell_type": "code",
   "execution_count": 142,
   "metadata": {},
   "outputs": [
    {
     "data": {
      "text/plain": [
       "'Portixol Restaurant'"
      ]
     },
     "execution_count": 142,
     "metadata": {},
     "output_type": "execute_result"
    }
   ],
   "source": [
    "RESTAURANT_INFO.name"
   ]
  },
  {
   "cell_type": "code",
   "execution_count": 143,
   "metadata": {},
   "outputs": [
    {
     "data": {
      "text/plain": [
       "'dish appeal'"
      ]
     },
     "execution_count": 143,
     "metadata": {},
     "output_type": "execute_result"
    }
   ],
   "source": [
    "dish_appeal.section_name"
   ]
  },
  {
   "cell_type": "code",
   "execution_count": 145,
   "metadata": {},
   "outputs": [
    {
     "data": {
      "text/plain": [
       "dict_keys(['Dish Appeal', 'Cultural Savvy', 'Upselling Grace', 'Wine Wisdom', 'Service Efficiency'])"
      ]
     },
     "execution_count": 145,
     "metadata": {},
     "output_type": "execute_result"
    }
   ],
   "source": [
    "from inputs.frameworks.content_framework import content_framework\n",
    "content_framework.keys()"
   ]
  },
  {
   "cell_type": "code",
   "execution_count": null,
   "metadata": {},
   "outputs": [],
   "source": []
  },
  {
   "cell_type": "code",
   "execution_count": null,
   "metadata": {},
   "outputs": [],
   "source": []
  },
  {
   "cell_type": "code",
   "execution_count": null,
   "metadata": {},
   "outputs": [],
   "source": []
  }
 ],
 "metadata": {
  "kernelspec": {
   "display_name": "Python 3",
   "language": "python",
   "name": "python3"
  },
  "language_info": {
   "codemirror_mode": {
    "name": "ipython",
    "version": 3
   },
   "file_extension": ".py",
   "mimetype": "text/x-python",
   "name": "python",
   "nbconvert_exporter": "python",
   "pygments_lexer": "ipython3",
   "version": "3.10.0"
  }
 },
 "nbformat": 4,
 "nbformat_minor": 2
}
